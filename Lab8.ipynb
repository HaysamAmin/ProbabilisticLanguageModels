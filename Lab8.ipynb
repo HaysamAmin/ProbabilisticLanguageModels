{
 "cells": [
  {
   "cell_type": "markdown",
   "id": "a18ab95c",
   "metadata": {},
   "source": [
    "# PROG8245-Machine Learning Programming\n",
    "## Lab 8\n",
    "\n",
    "### Team member names:\n",
    "- **Yu Chen Chou**\n",
    "- **Zhimin Xiong**\n",
    "- **Haysam Elamin**"
   ]
  }
 ],
 "metadata": {
  "language_info": {
   "name": "python"
  }
 },
 "nbformat": 4,
 "nbformat_minor": 5
}
